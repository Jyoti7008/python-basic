{
 "cells": [
  {
   "cell_type": "code",
   "execution_count": 1,
   "id": "367d7283",
   "metadata": {},
   "outputs": [
    {
     "data": {
      "text/plain": [
       "12"
      ]
     },
     "execution_count": 1,
     "metadata": {},
     "output_type": "execute_result"
    }
   ],
   "source": [
    "len('Jyoti Ranjan')"
   ]
  },
  {
   "cell_type": "code",
   "execution_count": 2,
   "id": "88542adf",
   "metadata": {},
   "outputs": [],
   "source": [
    "s = 'Hello Python'"
   ]
  },
  {
   "cell_type": "code",
   "execution_count": 3,
   "id": "e722d085",
   "metadata": {},
   "outputs": [
    {
     "name": "stdout",
     "output_type": "stream",
     "text": [
      "Hello Python\n"
     ]
    }
   ],
   "source": [
    "print(s)"
   ]
  },
  {
   "cell_type": "code",
   "execution_count": 4,
   "id": "d9a89709",
   "metadata": {},
   "outputs": [
    {
     "data": {
      "text/plain": [
       "'H'"
      ]
     },
     "execution_count": 4,
     "metadata": {},
     "output_type": "execute_result"
    }
   ],
   "source": [
    "s[0]"
   ]
  },
  {
   "cell_type": "code",
   "execution_count": 5,
   "id": "44a0217d",
   "metadata": {},
   "outputs": [
    {
     "data": {
      "text/plain": [
       "'h'"
      ]
     },
     "execution_count": 5,
     "metadata": {},
     "output_type": "execute_result"
    }
   ],
   "source": [
    "s[-3]"
   ]
  },
  {
   "cell_type": "code",
   "execution_count": 6,
   "id": "77375002",
   "metadata": {},
   "outputs": [
    {
     "data": {
      "text/plain": [
       "'Hel'"
      ]
     },
     "execution_count": 6,
     "metadata": {},
     "output_type": "execute_result"
    }
   ],
   "source": [
    "s[:3]"
   ]
  },
  {
   "cell_type": "code",
   "execution_count": 7,
   "id": "bb251877",
   "metadata": {},
   "outputs": [
    {
     "data": {
      "text/plain": [
       "'o Py'"
      ]
     },
     "execution_count": 7,
     "metadata": {},
     "output_type": "execute_result"
    }
   ],
   "source": [
    "s[4:8]"
   ]
  },
  {
   "cell_type": "code",
   "execution_count": 8,
   "id": "7540eb85",
   "metadata": {},
   "outputs": [
    {
     "name": "stdout",
     "output_type": "stream",
     "text": [
      "Enter number :1\n",
      "1\n",
      "Enter name : 2\n",
      "2\n",
      "type of number <class 'int'>\n",
      "type of name <class 'str'>\n"
     ]
    }
   ],
   "source": [
    "num = int(input (\"Enter number :\"))\n",
    "print(num)\n",
    "name1 = input(\"Enter name : \")\n",
    "print(name1)\n",
    "  \n",
    "# Printing type of input value\n",
    "print (\"type of number\", type(num))\n",
    "print (\"type of name\", type(name1))"
   ]
  },
  {
   "cell_type": "code",
   "execution_count": null,
   "id": "fe1e2386",
   "metadata": {},
   "outputs": [],
   "source": []
  }
 ],
 "metadata": {
  "kernelspec": {
   "display_name": "Python 3",
   "language": "python",
   "name": "python3"
  },
  "language_info": {
   "codemirror_mode": {
    "name": "ipython",
    "version": 3
   },
   "file_extension": ".py",
   "mimetype": "text/x-python",
   "name": "python",
   "nbconvert_exporter": "python",
   "pygments_lexer": "ipython3",
   "version": "3.8.8"
  }
 },
 "nbformat": 4,
 "nbformat_minor": 5
}
